{
 "metadata": {
  "language_info": {
   "codemirror_mode": {
    "name": "ipython",
    "version": 3
   },
   "file_extension": ".py",
   "mimetype": "text/x-python",
   "name": "python",
   "nbconvert_exporter": "python",
   "pygments_lexer": "ipython3",
   "version": "3.8.3-final"
  },
  "orig_nbformat": 2,
  "kernelspec": {
   "name": "Python 3.8.3 64-bit ('base': conda)",
   "display_name": "Python 3.8.3 64-bit ('base': conda)",
   "metadata": {
    "interpreter": {
     "hash": "d73910f5fd2fc7209a8cd0dc809916ee987088f53b8e6d841cdfda7667b2a3cb"
    }
   }
  }
 },
 "nbformat": 4,
 "nbformat_minor": 2,
 "cells": [
  {
   "cell_type": "code",
   "execution_count": 23,
   "metadata": {},
   "outputs": [],
   "source": [
    "#import dependencies\n",
    "import pathlib\n",
    "import csv"
   ]
  },
  {
   "cell_type": "code",
   "execution_count": 24,
   "metadata": {},
   "outputs": [],
   "source": [
    "#assign csv path\n",
    "budget_path = f'Resources/budget_data.csv'"
   ]
  },
  {
   "cell_type": "code",
   "execution_count": 25,
   "metadata": {
    "tags": []
   },
   "outputs": [],
   "source": [
    "#read cvs file\n",
    "with open(budget_path, 'r') as budget_csv:\n",
    "\n",
    "    budget_reader = csv.reader(budget_csv, delimiter=\",\")\n",
    "    budget_header = next(budget_reader)\n",
    "\n",
    "#set inital variables and blank lists\n",
    "    month_count = 0\n",
    "    total_profit = 0\n",
    "    month_list = []\n",
    "    profit_list = []\n",
    "    \n",
    "#loop for total variables and populate blank lists\n",
    "    for row in budget_reader:\n",
    "        month_count +=1\n",
    "        total_profit += int(row[1])\n",
    "        month_list.append(row[0])\n",
    "        profit_list.append(row[1])\n",
    "    \n",
    "#loop through profit_list to solve for monthly_change\n",
    "    monthly_change = [int(profit_list[i+1]) - int(profit_list[i]) for i in range(len(profit_list)-1)]\n",
    "\n",
    "#solve for remaining qustions based on previously set variables and lists\n",
    "    avg_change = round(sum(monthly_change) / (month_count - 1),2)\n",
    "    \n",
    "    max_change = max(monthly_change)\n",
    "    max_change_month = month_list[monthly_change.index(max_change)+1]\n",
    "    \n",
    "    min_change = min(monthly_change)\n",
    "    min_change_month = month_list[monthly_change.index(min_change)+1]"
   ]
  },
  {
   "cell_type": "code",
   "execution_count": 26,
   "metadata": {
    "tags": []
   },
   "outputs": [
    {
     "output_type": "stream",
     "name": "stdout",
     "text": "Financial Analysis\n-------------------------\nTotal Months: 86\nTotal: $38382578\nAverage Change: $-2315.12\nGreatest Increase in Profits: Feb-2012 ($1926159)\nGreatest Decrease in Profits: Sep-2013 ($-2196167)\n"
    }
   ],
   "source": [
    "#print results\n",
    "print(f\"Financial Analysis\")\n",
    "print(f\"-\"*25)\n",
    "print(f\"Total Months: {month_count}\")\n",
    "print(f\"Total: ${total_profit}\")\n",
    "print(f\"Average Change: ${avg_change}\")\n",
    "print(f\"Greatest Increase in Profits: {max_change_month} (${max_change})\")\n",
    "print(f\"Greatest Decrease in Profits: {min_change_month} (${min_change})\")"
   ]
  },
  {
   "cell_type": "code",
   "execution_count": null,
   "metadata": {},
   "outputs": [],
   "source": [
    "#output results to text file\n",
    "with open(\"main_output.txt\",\"w\") as txtfile:\n",
    "    print(f\"Financial Analysis\", file=txtfile)\n",
    "    print(f\"-\"*25, file=txtfile)\n",
    "    print(f\"Total Months: {month_count}\", file=txtfile)\n",
    "    print(f\"Total: ${total_profit}\", file=txtfile)\n",
    "    print(f\"Average Change: ${avg_change}\", file=txtfile)\n",
    "    print(f\"Greatest Increase in Profits: {max_change_month} (${max_change})\", file=txtfile)\n",
    "    print(f\"Greatest Decrease in Profits: {min_change_month} (${min_change})\", file=txtfile)"
   ]
  }
 ]
}